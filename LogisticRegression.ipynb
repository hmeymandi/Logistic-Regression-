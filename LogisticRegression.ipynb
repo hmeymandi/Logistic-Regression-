{
 "cells": [
  {
   "cell_type": "code",
   "execution_count": null,
   "id": "ba3668d4",
   "metadata": {},
   "outputs": [],
   "source": [
    "import numpy as np\n",
    "import pandas as pd\n",
    "import matplotlib.pyplot as plt \n",
    "import mglearn\n",
    "import seaborn as sns"
   ]
  },
  {
   "cell_type": "code",
   "execution_count": null,
   "id": "d52584bf",
   "metadata": {},
   "outputs": [],
   "source": [
    "from sklearn.datasets import make_blobs\n",
    "from sklearn.linear_model import LogisticRegression"
   ]
  },
  {
   "cell_type": "code",
   "execution_count": null,
   "id": "308be057",
   "metadata": {},
   "outputs": [],
   "source": [
    "X,y=make_blobs(random_state=40)"
   ]
  },
  {
   "cell_type": "code",
   "execution_count": null,
   "id": "7f147943",
   "metadata": {},
   "outputs": [],
   "source": [
    "datafreamtest=pd.DataFrame(X)\n",
    "datafreamtest['class']=y"
   ]
  },
  {
   "cell_type": "code",
   "execution_count": null,
   "id": "b7a79593",
   "metadata": {},
   "outputs": [],
   "source": [
    "%%capture\n",
    "model=LogisticRegression(C=1000,solver='liblinear').fit(X,y)"
   ]
  },
  {
   "cell_type": "code",
   "execution_count": null,
   "id": "bd60000a",
   "metadata": {
    "scrolled": true
   },
   "outputs": [],
   "source": [
    "model.coef_"
   ]
  },
  {
   "cell_type": "code",
   "execution_count": null,
   "id": "f5f04ac9",
   "metadata": {},
   "outputs": [],
   "source": [
    "model.coef_"
   ]
  },
  {
   "cell_type": "code",
   "execution_count": null,
   "id": "dd601d15",
   "metadata": {},
   "outputs": [],
   "source": [
    "model.intercept_"
   ]
  },
  {
   "cell_type": "markdown",
   "id": "eb4e924e",
   "metadata": {},
   "source": [
    "# x2=(w1x1+b)/w2 "
   ]
  },
  {
   "cell_type": "code",
   "execution_count": null,
   "id": "55671054",
   "metadata": {},
   "outputs": [],
   "source": [
    "line=np.linspace(-10,10)\n",
    "sns.scatterplot(data=datafreamtest,x=X[:,0],y=X[:,1],hue='class',palette='deep', )\n",
    "plt.plot(line, -(model.coef_[0,0] * line+ model.intercept_[0])/model.coef_[0,1])\n",
    "plt.plot(line, -(model.coef_[1,0] * line+ model.intercept_[1])/model.coef_[1,1])\n",
    "plt.plot(line, -(model.coef_[2,0] * line+ model.intercept_[2])/model.coef_[2,1])\n",
    "plt.xlim(-10,10)"
   ]
  },
  {
   "cell_type": "code",
   "execution_count": null,
   "id": "e316a89a",
   "metadata": {},
   "outputs": [],
   "source": []
  },
  {
   "cell_type": "code",
   "execution_count": null,
   "id": "719aea44",
   "metadata": {},
   "outputs": [],
   "source": []
  },
  {
   "cell_type": "code",
   "execution_count": null,
   "id": "54a8432b",
   "metadata": {},
   "outputs": [],
   "source": []
  },
  {
   "cell_type": "code",
   "execution_count": null,
   "id": "2626e4f4",
   "metadata": {},
   "outputs": [],
   "source": []
  },
  {
   "cell_type": "code",
   "execution_count": null,
   "id": "b0d179f5",
   "metadata": {},
   "outputs": [],
   "source": []
  },
  {
   "cell_type": "code",
   "execution_count": null,
   "id": "50dc40c0",
   "metadata": {},
   "outputs": [],
   "source": []
  },
  {
   "cell_type": "code",
   "execution_count": null,
   "id": "c9156a74",
   "metadata": {},
   "outputs": [],
   "source": []
  }
 ],
 "metadata": {
  "kernelspec": {
   "display_name": "Python 3 (ipykernel)",
   "language": "python",
   "name": "python3"
  },
  "language_info": {
   "codemirror_mode": {
    "name": "ipython",
    "version": 3
   },
   "file_extension": ".py",
   "mimetype": "text/x-python",
   "name": "python",
   "nbconvert_exporter": "python",
   "pygments_lexer": "ipython3",
   "version": "3.10.5"
  }
 },
 "nbformat": 4,
 "nbformat_minor": 5
}
